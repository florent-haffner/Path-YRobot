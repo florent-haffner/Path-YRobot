{
  "nbformat": 4,
  "nbformat_minor": 0,
  "metadata": {
    "colab": {
      "name": "YDAYS/2020-11-25/Proto-yrobot.ipynb",
      "provenance": [],
      "collapsed_sections": []
    },
    "kernelspec": {
      "name": "python3",
      "display_name": "Python 3"
    }
  },
  "cells": [
    {
      "cell_type": "markdown",
      "metadata": {
        "id": "zKAcN83IjMqk"
      },
      "source": [
        "# Missions\n",
        "- Explorer la piste de la simulation\n",
        "- Créer un modele simple\n",
        "- Fonctionnement Raspeberry\n",
        "- Recuperation donnée capteur"
      ]
    },
    {
      "cell_type": "markdown",
      "metadata": {
        "id": "nmBoOcbJTxsH"
      },
      "source": [
        "# Code"
      ]
    },
    {
      "cell_type": "markdown",
      "metadata": {
        "id": "TqUIyjlmKMVk"
      },
      "source": [
        "## Model object and movement handling"
      ]
    },
    {
      "cell_type": "code",
      "metadata": {
        "id": "3pQBeY8BvIOZ"
      },
      "source": [
        "from math import log\n",
        "from random import randint\n",
        "\n",
        "class YRobot:\n",
        "  def __init__(self):\n",
        "    self.x = 0\n",
        "    self.y = 0\n",
        "    self.orientation = 0\n",
        "    self.ultraSoundTopLeft = 0\n",
        "    self.ultraSoundTopRight = 0\n",
        "  \n",
        "  def move_forward(self):\n",
        "    try:\n",
        "      ## Gestion X\n",
        "      if (self.orientation == 0): self.x = self.x + 1\n",
        "      # On gère +/-90 degrés à l'aide de la valeur absolue\n",
        "      elif (self.orientation != 0 and abs(self.orientation) != 90):\n",
        "        self.x = self.x + (1 * log(abs(self.orientation)))\n",
        "\n",
        "      ## Gestion Y\n",
        "      if (self.orientation > 0):\n",
        "        self.y = self.y + (1 * log(abs(self.orientation)))\n",
        "      if (self.orientation < 0):\n",
        "          self.y = self.y - log(abs(self.orientation))\n",
        "    except: pass\n",
        "    print(self)\n",
        "  \n",
        "  def move_rearward(self):\n",
        "    try:\n",
        "      ## Gestion X\n",
        "      if (self.orientation == 0): self.x = self.x - 1\n",
        "      # On gère +/-90 degrés à l'aide de la valeur absolue\n",
        "      elif (self.orientation != 0 and abs(self.orientation) != 90):\n",
        "        self.x = self.x - (1 * log(abs(self.orientation)))\n",
        "\n",
        "      ## Gestion Y\n",
        "      if (self.orientation > 0):\n",
        "        self.y = self.y + (1 * log(abs(self.orientation)))\n",
        "      if (self.orientation < 0):\n",
        "        self.y = self.y - log(abs(self.orientation))\n",
        "    except: pass\n",
        "    print(self)\n",
        "  \n",
        "\n",
        "  def turn_left(self):\n",
        "    self.orientation = self.orientation - 30\n",
        "    print(self)\n",
        "  \n",
        "  def turn_right(self):\n",
        "    self.orientation = self.orientation + 30\n",
        "    print(self)\n",
        "\n",
        "  def __repr__(self):\n",
        "    return '{ x:' + str(self.x) + \\\n",
        "          ', y:' + str(self.y) + \\\n",
        "          ', orientation: ' + str(self.orientation) + \\\n",
        "          ', ucTopLeft: ' + str(self.ultraSoundTopLeft) + \\\n",
        "          ', ucTopRight: ' + str(self.ultraSoundTopRight) + \\\n",
        "          ' }'\n"
      ],
      "execution_count": null,
      "outputs": []
    },
    {
      "cell_type": "code",
      "metadata": {
        "id": "-uSNe6qxILdp"
      },
      "source": [
        "def generateRandomSensorValues(YRobot):\n",
        "    print('generate')\n",
        "    YRobot.ultraSoundTopLeft = randint(0, 1)\n",
        "    YRobot.ultraSoundTopRight = randint(0, 1)"
      ],
      "execution_count": null,
      "outputs": []
    },
    {
      "cell_type": "markdown",
      "metadata": {
        "id": "1cR_JR2RKJSR"
      },
      "source": [
        "## Logic handling"
      ]
    },
    {
      "cell_type": "code",
      "metadata": {
        "id": "oTXbaSvjEPXv"
      },
      "source": [
        "def checkSensors(YRobot):  \n",
        "  \n",
        "  generateRandomSensorValues(YRobot)\n",
        "  print('check')\n",
        "\n",
        "  if (YRobot.ultraSoundTopLeft == 1):\n",
        "    YRobot.move_rearward()\n",
        "    YRobot.turn_right()\n",
        "    YRobot.turn_right()\n",
        "    YRobot.turn_right()\n",
        "\n",
        "  if (YRobot.ultraSoundTopRight == 1):\n",
        "    YRobot.move_rearward()\n",
        "    YRobot.turn_left()\n",
        "    YRobot.turn_left()\n",
        "    YRobot.turn_left()\n",
        "\n",
        "  ## Considérer le cas ou il trouve plusieurs obstacles -> effectuer un déplacement saccader"
      ],
      "execution_count": null,
      "outputs": []
    },
    {
      "cell_type": "markdown",
      "metadata": {
        "id": "9M1Q7Ro0Ca1u"
      },
      "source": [
        "## Itération sur comportement"
      ]
    },
    {
      "cell_type": "code",
      "metadata": {
        "colab": {
          "base_uri": "https://localhost:8080/"
        },
        "id": "yGEtgPuz0iaC",
        "outputId": "b56b28ad-2ea1-45af-9cef-d11146d9ccfc"
      },
      "source": [
        "robot = YRobot()\n",
        "print(robot)\n",
        "\n",
        "for i in range(1, 5):\n",
        "  checkSensors(robot)\n",
        "  print(robot)\n",
        "\n",
        "checkSensors(robot)\n",
        "print(robot)\n",
        "\n",
        "for i in range(1, 5):\n",
        "  robot.move_forward()\n"
      ],
      "execution_count": null,
      "outputs": [
        {
          "output_type": "stream",
          "text": [
            "{ x:0, y:0, orientation: 0, ucTopLeft: 0, ucTopRight: 0 }\n",
            "generate\n",
            "check\n",
            "{ x:-1, y:0, orientation: 0, ucTopLeft: 1, ucTopRight: 0 }\n",
            "{ x:-1, y:0, orientation: 30, ucTopLeft: 1, ucTopRight: 0 }\n",
            "{ x:-1, y:0, orientation: 60, ucTopLeft: 1, ucTopRight: 0 }\n",
            "{ x:-1, y:0, orientation: 90, ucTopLeft: 1, ucTopRight: 0 }\n",
            "{ x:-1, y:0, orientation: 90, ucTopLeft: 1, ucTopRight: 0 }\n",
            "generate\n",
            "check\n",
            "{ x:-1, y:0, orientation: 90, ucTopLeft: 0, ucTopRight: 0 }\n",
            "generate\n",
            "check\n",
            "{ x:-1, y:4.499809670330265, orientation: 90, ucTopLeft: 1, ucTopRight: 1 }\n",
            "{ x:-1, y:4.499809670330265, orientation: 120, ucTopLeft: 1, ucTopRight: 1 }\n",
            "{ x:-1, y:4.499809670330265, orientation: 150, ucTopLeft: 1, ucTopRight: 1 }\n",
            "{ x:-1, y:4.499809670330265, orientation: 180, ucTopLeft: 1, ucTopRight: 1 }\n",
            "{ x:-6.19295685089021, y:9.692766521220475, orientation: 180, ucTopLeft: 1, ucTopRight: 1 }\n",
            "{ x:-6.19295685089021, y:9.692766521220475, orientation: 150, ucTopLeft: 1, ucTopRight: 1 }\n",
            "{ x:-6.19295685089021, y:9.692766521220475, orientation: 120, ucTopLeft: 1, ucTopRight: 1 }\n",
            "{ x:-6.19295685089021, y:9.692766521220475, orientation: 90, ucTopLeft: 1, ucTopRight: 1 }\n",
            "{ x:-6.19295685089021, y:9.692766521220475, orientation: 90, ucTopLeft: 1, ucTopRight: 1 }\n",
            "generate\n",
            "check\n",
            "{ x:-6.19295685089021, y:9.692766521220475, orientation: 90, ucTopLeft: 0, ucTopRight: 0 }\n",
            "generate\n",
            "check\n",
            "{ x:-6.19295685089021, y:14.19257619155074, orientation: 90, ucTopLeft: 0, ucTopRight: 1 }\n",
            "{ x:-6.19295685089021, y:14.19257619155074, orientation: 60, ucTopLeft: 0, ucTopRight: 1 }\n",
            "{ x:-6.19295685089021, y:14.19257619155074, orientation: 30, ucTopLeft: 0, ucTopRight: 1 }\n",
            "{ x:-6.19295685089021, y:14.19257619155074, orientation: 0, ucTopLeft: 0, ucTopRight: 1 }\n",
            "{ x:-6.19295685089021, y:14.19257619155074, orientation: 0, ucTopLeft: 0, ucTopRight: 1 }\n",
            "{ x:-5.19295685089021, y:14.19257619155074, orientation: 0, ucTopLeft: 0, ucTopRight: 1 }\n",
            "{ x:-4.19295685089021, y:14.19257619155074, orientation: 0, ucTopLeft: 0, ucTopRight: 1 }\n",
            "{ x:-3.1929568508902104, y:14.19257619155074, orientation: 0, ucTopLeft: 0, ucTopRight: 1 }\n",
            "{ x:-2.1929568508902104, y:14.19257619155074, orientation: 0, ucTopLeft: 0, ucTopRight: 1 }\n"
          ],
          "name": "stdout"
        }
      ]
    },
    {
      "cell_type": "code",
      "metadata": {
        "id": "r6ZJf8vRSxfc"
      },
      "source": [
        "from datetime import datetime\n",
        "\n",
        "current = datetime.now().timestamp()\n",
        "\n",
        "# calculate a 10s simulation"
      ],
      "execution_count": null,
      "outputs": []
    },
    {
      "cell_type": "markdown",
      "metadata": {
        "id": "NhmKd3gUA-ca"
      },
      "source": [
        "## Déplacement robot - RASPBERRY"
      ]
    },
    {
      "cell_type": "code",
      "metadata": {
        "id": "nsbwa-bfw9Yk"
      },
      "source": [
        "#Code pour définir les fonctions de déplacements du robot\n",
        "\n",
        "#Import des librairies\n",
        "from gpiozero import PWMOutputDevice\n",
        "from time import sleep\n",
        " \n",
        "#///////////////// Définition des Pins des moteurs /////////////////\n",
        "# Moteur A, coté gauche\n",
        "PWM_FORWARD_LEFT_PIN = 26\t# IN1 - Forward Drive\n",
        "PWM_REVERSE_LEFT_PIN = 19\t# IN2 - Reverse Drive\n",
        "# Moteur B, coté droit\n",
        "PWM_FORWARD_RIGHT_PIN = 13\t# IN1 - Forward Drive\n",
        "PWM_REVERSE_RIGHT_PIN = 6\t# IN2 - Reverse Drive\n",
        " \n",
        "# Initialisation des objets pour le pont H\n",
        "forwardLeft = PWMOutputDevice(PWM_FORWARD_LEFT_PIN, True, 0, 1000)\n",
        "reverseLeft = PWMOutputDevice(PWM_REVERSE_LEFT_PIN, True, 0, 1000)\n",
        " \n",
        "forwardRight = PWMOutputDevice(PWM_FORWARD_RIGHT_PIN, True, 0, 1000)\n",
        "reverseRight = PWMOutputDevice(PWM_REVERSE_RIGHT_PIN, True, 0, 1000)\n",
        " \n",
        " \n",
        "def allStop():\n",
        "\tforwardLeft.value = 0\n",
        "\treverseLeft.value = 0\n",
        "\tforwardRight.value = 0\n",
        "\treverseRight.value = 0\n",
        " \n",
        "def forwardDrive():\n",
        "\tforwardLeft.value = 1.0\n",
        "\treverseLeft.value = 0\n",
        "\tforwardRight.value = 1.0\n",
        "\treverseRight.value = 0\n",
        " \n",
        "def reverseDrive():\n",
        "\tforwardLeft.value = 0\n",
        "\treverseLeft.value = 1.0\n",
        "\tforwardRight.value = 0\n",
        "\treverseRight.value = 1.0\n",
        " \n",
        "def spinLeft():\n",
        "\tforwardLeft.value = 0\n",
        "\treverseLeft.value = 1.0\n",
        "\tforwardRight.value = 1.0\n",
        "\treverseRight.value = 0\n",
        " \n",
        "def SpinRight():\n",
        "\tforwardLeft.value = 1.0\n",
        "\treverseLeft.value = 0\n",
        "\tforwardRight.value = 0\n",
        "\treverseRight.value = 1.0\n",
        " \n",
        "def forwardTurnLeft():\n",
        "\tforwardLeft.value = 0.2\n",
        "\treverseLeft.value = 0\n",
        "\tforwardRight.value = 0.8\n",
        "\treverseRight.value = 0\n",
        " \n",
        "def forwardTurnRight():\n",
        "\tforwardLeft.value = 0.8\n",
        "\treverseLeft.value = 0\n",
        "\tforwardRight.value = 0.2\n",
        "\treverseRight.value = 0\n",
        " \n",
        "def reverseTurnLeft():\n",
        "\tforwardLeft.value = 0\n",
        "\treverseLeft.value = 0.2\n",
        "\tforwardRight.value = 0\n",
        "\treverseRight.value = 0.8\n",
        " \n",
        "def reverseTurnRight():\n",
        "\tforwardLeft.value = 0\n",
        "\treverseLeft.value = 0.8\n",
        "\tforwardRight.value = 0\n",
        "\treverseRight.value = 0.2\n",
        " \n",
        "#Pour tester les différents déplacements coder précédemment\n",
        "def main():\n",
        "\tallStop()\n",
        "\tforwardDrive()\n",
        "\tsleep(5)\n",
        "\treverseDrive()\n",
        "\tsleep(5)\n",
        "\tspinLeft()\n",
        "\tsleep(5)\n",
        "\tSpinRight()\n",
        "\tsleep(5)\n",
        "\tforwardTurnLeft()\n",
        "\tsleep(5)\n",
        "\tforwardTurnRight()\n",
        "\tsleep(5)\n",
        "\treverseTurnLeft()\n",
        "\tsleep(5)\n",
        "\treverseTurnRight()\n",
        "\tsleep(5)\n",
        "\tallStop()\n",
        " \n",
        " \n",
        "if __name__ == \"__main__\":\n",
        "    \"\"\"Executer lorsque c'est lancé depuis le CLI\"\"\"\n",
        "    main()"
      ],
      "execution_count": null,
      "outputs": []
    }
  ]
}