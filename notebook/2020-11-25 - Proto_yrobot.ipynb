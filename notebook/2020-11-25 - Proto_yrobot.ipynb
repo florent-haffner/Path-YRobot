{
 "cells": [
  {
   "cell_type": "markdown",
   "metadata": {
    "id": "nmBoOcbJTxsH"
   },
   "source": [
    "# Code"
   ]
  },
  {
   "cell_type": "markdown",
   "metadata": {
    "id": "TqUIyjlmKMVk"
   },
   "source": [
    "## Model object and movement handling"
   ]
  },
  {
   "cell_type": "code",
   "execution_count": 7,
   "metadata": {},
   "outputs": [],
   "source": [
    "# Used to import the classe defining our robot\n",
    "import sys\n",
    "sys.path.insert(0, '../src/')           \n",
    "\n",
    "from utils import YRobot"
   ]
  },
  {
   "cell_type": "code",
   "execution_count": 13,
   "metadata": {},
   "outputs": [],
   "source": [
    "from random import randint"
   ]
  },
  {
   "cell_type": "code",
   "execution_count": 4,
   "metadata": {
    "id": "-uSNe6qxILdp"
   },
   "outputs": [],
   "source": [
    "def generateRandomSensorValues(YRobot):\n",
    "    print('generate')\n",
    "    YRobot.ultraSoundTopLeft = randint(0, 1)\n",
    "    YRobot.ultraSoundTopRight = randint(0, 1)"
   ]
  },
  {
   "cell_type": "markdown",
   "metadata": {
    "id": "1cR_JR2RKJSR"
   },
   "source": [
    "## Logic handling"
   ]
  },
  {
   "cell_type": "code",
   "execution_count": 15,
   "metadata": {
    "id": "oTXbaSvjEPXv"
   },
   "outputs": [],
   "source": [
    "def checkSensors(YRobot):  \n",
    "  \n",
    "  generateRandomSensorValues(YRobot)\n",
    "  print('check')\n",
    "\n",
    "  if (YRobot.ultraSoundTopLeft == 1):\n",
    "    YRobot.move_rearward()\n",
    "    YRobot.turn_right()\n",
    "    YRobot.turn_right()\n",
    "    YRobot.turn_right()\n",
    "\n",
    "  if (YRobot.ultraSoundTopRight == 1):\n",
    "    YRobot.move_rearward()\n",
    "    YRobot.turn_left()\n",
    "    YRobot.turn_left()\n",
    "    YRobot.turn_left()\n",
    "\n",
    "  ## Considérer le cas ou il trouve plusieurs obstacles -> effectuer un déplacement saccader"
   ]
  },
  {
   "cell_type": "markdown",
   "metadata": {
    "id": "9M1Q7Ro0Ca1u"
   },
   "source": [
    "## Itération sur comportement"
   ]
  },
  {
   "cell_type": "code",
   "execution_count": 14,
   "metadata": {
    "colab": {
     "base_uri": "https://localhost:8080/"
    },
    "id": "yGEtgPuz0iaC",
    "outputId": "b56b28ad-2ea1-45af-9cef-d11146d9ccfc"
   },
   "outputs": [
    {
     "name": "stdout",
     "output_type": "stream",
     "text": [
      "{ x:0, y:0, orientation: 0, ucTopLeft: 0, ucTopRight: 0 }\n",
      "generate\n",
      "check\n",
      "{ x:-1, y:0, orientation: 0, ucTopLeft: 1, ucTopRight: 0 }\n",
      "{ x:-1, y:0, orientation: 30, ucTopLeft: 1, ucTopRight: 0 }\n",
      "{ x:-1, y:0, orientation: 60, ucTopLeft: 1, ucTopRight: 0 }\n",
      "{ x:-1, y:0, orientation: 90, ucTopLeft: 1, ucTopRight: 0 }\n",
      "{ x:-1, y:0, orientation: 90, ucTopLeft: 1, ucTopRight: 0 }\n",
      "generate\n",
      "check\n",
      "{ x:-1, y:0, orientation: 90, ucTopLeft: 0, ucTopRight: 0 }\n",
      "generate\n",
      "check\n",
      "{ x:-1, y:4.499809670330265, orientation: 90, ucTopLeft: 0, ucTopRight: 1 }\n",
      "{ x:-1, y:4.499809670330265, orientation: 60, ucTopLeft: 0, ucTopRight: 1 }\n",
      "{ x:-1, y:4.499809670330265, orientation: 30, ucTopLeft: 0, ucTopRight: 1 }\n",
      "{ x:-1, y:4.499809670330265, orientation: 0, ucTopLeft: 0, ucTopRight: 1 }\n",
      "{ x:-1, y:4.499809670330265, orientation: 0, ucTopLeft: 0, ucTopRight: 1 }\n",
      "generate\n",
      "check\n",
      "{ x:-2, y:4.499809670330265, orientation: 0, ucTopLeft: 0, ucTopRight: 1 }\n",
      "{ x:-2, y:4.499809670330265, orientation: -30, ucTopLeft: 0, ucTopRight: 1 }\n",
      "{ x:-2, y:4.499809670330265, orientation: -60, ucTopLeft: 0, ucTopRight: 1 }\n",
      "{ x:-2, y:4.499809670330265, orientation: -90, ucTopLeft: 0, ucTopRight: 1 }\n",
      "{ x:-2, y:4.499809670330265, orientation: -90, ucTopLeft: 0, ucTopRight: 1 }\n",
      "generate\n",
      "check\n",
      "{ x:-2, y:0.0, orientation: -90, ucTopLeft: 1, ucTopRight: 0 }\n",
      "{ x:-2, y:0.0, orientation: -60, ucTopLeft: 1, ucTopRight: 0 }\n",
      "{ x:-2, y:0.0, orientation: -30, ucTopLeft: 1, ucTopRight: 0 }\n",
      "{ x:-2, y:0.0, orientation: 0, ucTopLeft: 1, ucTopRight: 0 }\n",
      "{ x:-2, y:0.0, orientation: 0, ucTopLeft: 1, ucTopRight: 0 }\n",
      "{ x:-1, y:0.0, orientation: 0, ucTopLeft: 1, ucTopRight: 0 }\n",
      "{ x:0, y:0.0, orientation: 0, ucTopLeft: 1, ucTopRight: 0 }\n",
      "{ x:1, y:0.0, orientation: 0, ucTopLeft: 1, ucTopRight: 0 }\n",
      "{ x:2, y:0.0, orientation: 0, ucTopLeft: 1, ucTopRight: 0 }\n"
     ]
    }
   ],
   "source": [
    "robot = YRobot()\n",
    "print(robot)\n",
    "\n",
    "for i in range(1, 5):\n",
    "  checkSensors(robot)\n",
    "  print(robot)\n",
    "\n",
    "checkSensors(robot)\n",
    "print(robot)\n",
    "\n",
    "for i in range(1, 5):\n",
    "  robot.move_forward()\n"
   ]
  },
  {
   "cell_type": "code",
   "execution_count": null,
   "metadata": {
    "id": "r6ZJf8vRSxfc"
   },
   "outputs": [],
   "source": [
    "from datetime import datetime\n",
    "\n",
    "current = datetime.now().timestamp()\n",
    "\n",
    "# calculate a 10s simulation"
   ]
  },
  {
   "cell_type": "markdown",
   "metadata": {
    "id": "NhmKd3gUA-ca"
   },
   "source": [
    "## Déplacement robot - RASPBERRY"
   ]
  },
  {
   "cell_type": "code",
   "execution_count": null,
   "metadata": {
    "id": "nsbwa-bfw9Yk"
   },
   "outputs": [],
   "source": [
    "#Code pour définir les fonctions de déplacements du robot\n",
    "\n",
    "#Import des librairies\n",
    "from gpiozero import PWMOutputDevice\n",
    "from time import sleep\n",
    " \n",
    "#///////////////// Définition des Pins des moteurs /////////////////\n",
    "# Moteur A, coté gauche\n",
    "PWM_FORWARD_LEFT_PIN = 26\t# IN1 - Forward Drive\n",
    "PWM_REVERSE_LEFT_PIN = 19\t# IN2 - Reverse Drive\n",
    "# Moteur B, coté droit\n",
    "PWM_FORWARD_RIGHT_PIN = 13\t# IN1 - Forward Drive\n",
    "PWM_REVERSE_RIGHT_PIN = 6\t# IN2 - Reverse Drive\n",
    " \n",
    "# Initialisation des objets pour le pont H\n",
    "forwardLeft = PWMOutputDevice(PWM_FORWARD_LEFT_PIN, True, 0, 1000)\n",
    "reverseLeft = PWMOutputDevice(PWM_REVERSE_LEFT_PIN, True, 0, 1000)\n",
    " \n",
    "forwardRight = PWMOutputDevice(PWM_FORWARD_RIGHT_PIN, True, 0, 1000)\n",
    "reverseRight = PWMOutputDevice(PWM_REVERSE_RIGHT_PIN, True, 0, 1000)\n",
    " \n",
    " \n",
    "def allStop():\n",
    "\tforwardLeft.value = 0\n",
    "\treverseLeft.value = 0\n",
    "\tforwardRight.value = 0\n",
    "\treverseRight.value = 0\n",
    " \n",
    "def forwardDrive():\n",
    "\tforwardLeft.value = 1.0\n",
    "\treverseLeft.value = 0\n",
    "\tforwardRight.value = 1.0\n",
    "\treverseRight.value = 0\n",
    " \n",
    "def reverseDrive():\n",
    "\tforwardLeft.value = 0\n",
    "\treverseLeft.value = 1.0\n",
    "\tforwardRight.value = 0\n",
    "\treverseRight.value = 1.0\n",
    " \n",
    "def spinLeft():\n",
    "\tforwardLeft.value = 0\n",
    "\treverseLeft.value = 1.0\n",
    "\tforwardRight.value = 1.0\n",
    "\treverseRight.value = 0\n",
    " \n",
    "def SpinRight():\n",
    "\tforwardLeft.value = 1.0\n",
    "\treverseLeft.value = 0\n",
    "\tforwardRight.value = 0\n",
    "\treverseRight.value = 1.0\n",
    " \n",
    "def forwardTurnLeft():\n",
    "\tforwardLeft.value = 0.2\n",
    "\treverseLeft.value = 0\n",
    "\tforwardRight.value = 0.8\n",
    "\treverseRight.value = 0\n",
    " \n",
    "def forwardTurnRight():\n",
    "\tforwardLeft.value = 0.8\n",
    "\treverseLeft.value = 0\n",
    "\tforwardRight.value = 0.2\n",
    "\treverseRight.value = 0\n",
    " \n",
    "def reverseTurnLeft():\n",
    "\tforwardLeft.value = 0\n",
    "\treverseLeft.value = 0.2\n",
    "\tforwardRight.value = 0\n",
    "\treverseRight.value = 0.8\n",
    " \n",
    "def reverseTurnRight():\n",
    "\tforwardLeft.value = 0\n",
    "\treverseLeft.value = 0.8\n",
    "\tforwardRight.value = 0\n",
    "\treverseRight.value = 0.2\n",
    " \n",
    "#Pour tester les différents déplacements coder précédemment\n",
    "def main():\n",
    "\tallStop()\n",
    "\tforwardDrive()\n",
    "\tsleep(5)\n",
    "\treverseDrive()\n",
    "\tsleep(5)\n",
    "\tspinLeft()\n",
    "\tsleep(5)\n",
    "\tSpinRight()\n",
    "\tsleep(5)\n",
    "\tforwardTurnLeft()\n",
    "\tsleep(5)\n",
    "\tforwardTurnRight()\n",
    "\tsleep(5)\n",
    "\treverseTurnLeft()\n",
    "\tsleep(5)\n",
    "\treverseTurnRight()\n",
    "\tsleep(5)\n",
    "\tallStop()\n",
    " \n",
    " \n",
    "if __name__ == \"__main__\":\n",
    "    \"\"\"Executer lorsque c'est lancé depuis le CLI\"\"\"\n",
    "    main()"
   ]
  }
 ],
 "metadata": {
  "colab": {
   "collapsed_sections": [],
   "name": "YDAYS/2020-11-25/Proto-yrobot.ipynb",
   "provenance": []
  },
  "kernelspec": {
   "display_name": "Python 3",
   "language": "python",
   "name": "python3"
  },
  "language_info": {
   "codemirror_mode": {
    "name": "ipython",
    "version": 3
   },
   "file_extension": ".py",
   "mimetype": "text/x-python",
   "name": "python",
   "nbconvert_exporter": "python",
   "pygments_lexer": "ipython3",
   "version": "3.8.3"
  }
 },
 "nbformat": 4,
 "nbformat_minor": 1
}
